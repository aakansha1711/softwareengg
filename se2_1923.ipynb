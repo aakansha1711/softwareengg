{
  "nbformat": 4,
  "nbformat_minor": 0,
  "metadata": {
    "colab": {
      "provenance": [],
      "authorship_tag": "ABX9TyN55Ot2i4O7tprOMJhlUG4w",
      "include_colab_link": true
    },
    "kernelspec": {
      "name": "python3",
      "display_name": "Python 3"
    },
    "language_info": {
      "name": "python"
    }
  },
  "cells": [
    {
      "cell_type": "markdown",
      "metadata": {
        "id": "view-in-github",
        "colab_type": "text"
      },
      "source": [
        "<a href=\"https://colab.research.google.com/github/aakansha1711/softwareengg/blob/main/se2_1923.ipynb\" target=\"_parent\"><img src=\"https://colab.research.google.com/assets/colab-badge.svg\" alt=\"Open In Colab\"/></a>"
      ]
    },
    {
      "cell_type": "code",
      "execution_count": 2,
      "metadata": {
        "id": "Z8Out4eGJHQ7",
        "colab": {
          "base_uri": "https://localhost:8080/"
        },
        "outputId": "e7cb02d0-eaaf-42c8-806f-e701926b3c64"
      },
      "outputs": [
        {
          "output_type": "stream",
          "name": "stdout",
          "text": [
            "Drive already mounted at /content/drive; to attempt to forcibly remount, call drive.mount(\"/content/drive\", force_remount=True).\n"
          ]
        }
      ],
      "source": [
        "from google.colab import drive\n",
        "drive.mount('/content/drive')"
      ]
    },
    {
      "cell_type": "code",
      "source": [
        "#hardcodeing variables\n",
        "a=1\n",
        "b=2\n",
        "print(f\"hardcode values:a={a},b={b}\")"
      ],
      "metadata": {
        "colab": {
          "base_uri": "https://localhost:8080/"
        },
        "id": "WRvKxuN7KMkS",
        "outputId": "d99f2240-b966-4be3-fe9e-e54b0e3aa4ec"
      },
      "execution_count": 4,
      "outputs": [
        {
          "output_type": "stream",
          "name": "stdout",
          "text": [
            "hardcode values:a=1,b=2\n"
          ]
        }
      ]
    },
    {
      "cell_type": "code",
      "source": [
        "#keyboard input\n",
        "name=input(\"enter your name:\")\n",
        "age=input(\"enter your age:\")\n",
        "print(f\"name={name},age={age}\")"
      ],
      "metadata": {
        "colab": {
          "base_uri": "https://localhost:8080/"
        },
        "id": "479q0tlLLqVC",
        "outputId": "f4a4c23b-2ee6-42b2-e224-803c6a2ad12a"
      },
      "execution_count": 7,
      "outputs": [
        {
          "output_type": "stream",
          "name": "stdout",
          "text": [
            "enter your name:aakansha \n",
            "enter your age:20\n",
            "name=aakansha ,age=20\n"
          ]
        }
      ]
    },
    {
      "cell_type": "code",
      "source": [
        "with open(\"single_input.txt\",\"w\") as f:\n",
        "  f.write(\"47\" )\n",
        "try:\n",
        "  with open (\"single_input.txt\", \"r\") as f:\n",
        "   num=int(f.read() .strip())\n",
        "   result=num*4\n",
        "  print(f\"Single Input Read from File : {num}* 4 = {result}\")\n",
        "except FileNotFoundError:\n",
        " print(\"File Not Found!\")\n",
        "except ValueError:\n",
        " print(\"Error in reading or converting the input!\")"
      ],
      "metadata": {
        "colab": {
          "base_uri": "https://localhost:8080/"
        },
        "id": "FistqpeCMIQE",
        "outputId": "f422e662-e524-43b2-857c-c4558cd69da1"
      },
      "execution_count": 8,
      "outputs": [
        {
          "output_type": "stream",
          "name": "stdout",
          "text": [
            "Single Input Read from File : 47* 4 = 188\n"
          ]
        }
      ]
    },
    {
      "cell_type": "code",
      "source": [
        "user_input = input(\"Please enter multiple numbers, separated by spaces: \")\n",
        "numbers_list = user_input.split()\n",
        "with open (\"multiple_inputs.txt\", \"w\") as f:\n",
        "  for num in numbers_list:\n",
        "      f.write(num + \"\\n\")\n",
        "try:\n",
        "  with open (\"multiple_inputs.txt\", \"p\") as f:\n",
        "      numbers = [int(line.strip()) for line in f.readlines()]\n",
        "      result = sum (numbers)\n",
        "      print(f\"Multiple Inputs Read from File: {numbers}, Sum = {result}\")\n",
        "except FileNotFoundError:\n",
        "    print(\"File not found!\")\n",
        "except ValueError:\n",
        "    print(\"Error in reading or converting the inputs!\")"
      ],
      "metadata": {
        "colab": {
          "base_uri": "https://localhost:8080/"
        },
        "id": "Y22FpOaYMfy0",
        "outputId": "02c6f5d4-d2b9-48cc-d30c-7ab6ec53ccea"
      },
      "execution_count": 10,
      "outputs": [
        {
          "output_type": "stream",
          "name": "stdout",
          "text": [
            "Please enter multiple numbers, separated by spaces: 23 24\n",
            "Error in reading or converting the inputs!\n"
          ]
        }
      ]
    },
    {
      "cell_type": "code",
      "source": [],
      "metadata": {
        "id": "vmQlCln2M82Y"
      },
      "execution_count": null,
      "outputs": []
    }
  ]
}